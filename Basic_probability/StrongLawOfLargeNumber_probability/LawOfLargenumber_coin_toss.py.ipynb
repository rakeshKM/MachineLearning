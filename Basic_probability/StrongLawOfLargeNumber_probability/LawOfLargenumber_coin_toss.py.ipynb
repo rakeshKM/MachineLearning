{
 "cells": [
  {
   "cell_type": "markdown",
   "metadata": {},
   "source": [
    "# Lets understand the \"Strong Law o large number of probability\" using a coin toss simulation experiment"
   ]
  },
  {
   "attachments": {
    "image.png": {
     "image/png": "[encoded data removed]"
    }
   },
   "cell_type": "markdown",
   "metadata": {},
   "source": [
    "The **Strong law of large numbers** (also called Kolmogorov's law) states that the sample average converges almost surely to the expected value\n",
    "\\begin{matrix}{}\\\\{\\overline {X}}_{n}\\ \\xrightarrow {\\text{a.s.}} \\ \\mu \\qquad {\\textrm {when}}\\ n\\to \\infty .\\\\{}\\end{matrix}\n",
    " \n",
    "that is\n",
    "\n",
    "![image.png](attachment:image.png)\n",
    "\n",
    "\n",
    "What this means is that the probability that, as the number of trials n goes to infinity, the average of the observations converges to the expected value, is equal to one"
   ]
  },
  {
   "attachments": {},
   "cell_type": "markdown",
   "metadata": {},
   "source": [
    "let p be the probability with which the coin toss shows head.\n",
    "For a fair coin  p=.5\n",
    "Let us do n number of toss, let Kn be the number of head in first n tosses, fn be the relative frequency with which head appears in first n tosses.\n",
    "\n",
    "clearly fn= Kn/n \n",
    "A more intresting variable is \"Kn- np\" , the absoluete difference between actaul number of head and expected number of head\n",
    "\n",
    "lets  craete a table of n, Kn-np ,and fn, for both fiar and bias"
   ]
  },
  {
   "cell_type": "code",
   "execution_count": 58,
   "metadata": {},
   "outputs": [],
   "source": [
    "import random\n",
    "import pandas as pd\n",
    "import matplotlib.pyplot as plt\n",
    "\n",
    "\n",
    "def coin_toss(n,p):\n",
    "    #random.random() returns a uniformly distributed pseudo-random floating point number in the range [0, 1)\n",
    "    #This number is less than a given number p in the range [0,1) with probability p\n",
    "    res=[ \"H\"  if random.random() < p  else  \"T\" for i in range(n)]\n",
    "    return res\n",
    "\n",
    "\n",
    "p_fair=1/2\n",
    "p_unfair=1/6\n",
    "n_=[10,25,50,100,250,500,1000,2500,5000,7500,10000,15000,20000,25000,30000]\n",
    "\n",
    "\n",
    "fair=[]\n",
    "unfair=[]\n",
    "for n in n_:\n",
    "    fair_toss_result= coin_toss(n,p_fair)\n",
    "    Kn1=fair_toss_result.count(\"H\")\n",
    "    fn1=Kn1/n\n",
    "    fair.append([n, Kn1-(n*p_fair) ,fn1])\n",
    "    \n",
    "    unfair_toss_result=coin_toss(n,p)\n",
    "    Kn2=unfair_toss_result.count(\"H\")\n",
    "    fn2=Kn2/n\n",
    "    unfair.append([n, Kn2-(n*p) ,fn2])"
   ]
  },
  {
   "cell_type": "code",
   "execution_count": 59,
   "metadata": {},
   "outputs": [
    {
     "data": {
      "text/html": [
       "<div>\n",
       "<style scoped>\n",
       "    .dataframe tbody tr th:only-of-type {\n",
       "        vertical-align: middle;\n",
       "    }\n",
       "\n",
       "    .dataframe tbody tr th {\n",
       "        vertical-align: top;\n",
       "    }\n",
       "\n",
       "    .dataframe thead th {\n",
       "        text-align: right;\n",
       "    }\n",
       "</style>\n",
       "<table border=\"1\" class=\"dataframe\">\n",
       "  <thead>\n",
       "    <tr style=\"text-align: right;\">\n",
       "      <th></th>\n",
       "      <th>n</th>\n",
       "      <th>Kn-np</th>\n",
       "      <th>fn</th>\n",
       "      <th>n</th>\n",
       "      <th>Kn-np</th>\n",
       "      <th>fn</th>\n",
       "    </tr>\n",
       "  </thead>\n",
       "  <tbody>\n",
       "    <tr>\n",
       "      <th>0</th>\n",
       "      <td>10</td>\n",
       "      <td>-1.0</td>\n",
       "      <td>0.400000</td>\n",
       "      <td>10</td>\n",
       "      <td>2.333333</td>\n",
       "      <td>0.400000</td>\n",
       "    </tr>\n",
       "    <tr>\n",
       "      <th>1</th>\n",
       "      <td>25</td>\n",
       "      <td>3.5</td>\n",
       "      <td>0.640000</td>\n",
       "      <td>25</td>\n",
       "      <td>1.833333</td>\n",
       "      <td>0.240000</td>\n",
       "    </tr>\n",
       "    <tr>\n",
       "      <th>2</th>\n",
       "      <td>50</td>\n",
       "      <td>0.0</td>\n",
       "      <td>0.500000</td>\n",
       "      <td>50</td>\n",
       "      <td>1.666667</td>\n",
       "      <td>0.200000</td>\n",
       "    </tr>\n",
       "    <tr>\n",
       "      <th>3</th>\n",
       "      <td>100</td>\n",
       "      <td>-7.0</td>\n",
       "      <td>0.430000</td>\n",
       "      <td>100</td>\n",
       "      <td>0.333333</td>\n",
       "      <td>0.170000</td>\n",
       "    </tr>\n",
       "    <tr>\n",
       "      <th>4</th>\n",
       "      <td>250</td>\n",
       "      <td>-20.0</td>\n",
       "      <td>0.420000</td>\n",
       "      <td>250</td>\n",
       "      <td>4.333333</td>\n",
       "      <td>0.184000</td>\n",
       "    </tr>\n",
       "    <tr>\n",
       "      <th>5</th>\n",
       "      <td>500</td>\n",
       "      <td>-11.0</td>\n",
       "      <td>0.478000</td>\n",
       "      <td>500</td>\n",
       "      <td>-1.333333</td>\n",
       "      <td>0.164000</td>\n",
       "    </tr>\n",
       "    <tr>\n",
       "      <th>6</th>\n",
       "      <td>1000</td>\n",
       "      <td>-5.0</td>\n",
       "      <td>0.495000</td>\n",
       "      <td>1000</td>\n",
       "      <td>6.333333</td>\n",
       "      <td>0.173000</td>\n",
       "    </tr>\n",
       "    <tr>\n",
       "      <th>7</th>\n",
       "      <td>2500</td>\n",
       "      <td>38.0</td>\n",
       "      <td>0.515200</td>\n",
       "      <td>2500</td>\n",
       "      <td>-26.666667</td>\n",
       "      <td>0.156000</td>\n",
       "    </tr>\n",
       "    <tr>\n",
       "      <th>8</th>\n",
       "      <td>5000</td>\n",
       "      <td>-23.0</td>\n",
       "      <td>0.495400</td>\n",
       "      <td>5000</td>\n",
       "      <td>15.666667</td>\n",
       "      <td>0.169800</td>\n",
       "    </tr>\n",
       "    <tr>\n",
       "      <th>9</th>\n",
       "      <td>7500</td>\n",
       "      <td>-13.0</td>\n",
       "      <td>0.498267</td>\n",
       "      <td>7500</td>\n",
       "      <td>-13.000000</td>\n",
       "      <td>0.164933</td>\n",
       "    </tr>\n",
       "    <tr>\n",
       "      <th>10</th>\n",
       "      <td>10000</td>\n",
       "      <td>18.0</td>\n",
       "      <td>0.501800</td>\n",
       "      <td>10000</td>\n",
       "      <td>-20.666667</td>\n",
       "      <td>0.164600</td>\n",
       "    </tr>\n",
       "    <tr>\n",
       "      <th>11</th>\n",
       "      <td>15000</td>\n",
       "      <td>-65.0</td>\n",
       "      <td>0.495667</td>\n",
       "      <td>15000</td>\n",
       "      <td>17.000000</td>\n",
       "      <td>0.167800</td>\n",
       "    </tr>\n",
       "    <tr>\n",
       "      <th>12</th>\n",
       "      <td>20000</td>\n",
       "      <td>80.0</td>\n",
       "      <td>0.504000</td>\n",
       "      <td>20000</td>\n",
       "      <td>-23.333333</td>\n",
       "      <td>0.165500</td>\n",
       "    </tr>\n",
       "    <tr>\n",
       "      <th>13</th>\n",
       "      <td>25000</td>\n",
       "      <td>-6.0</td>\n",
       "      <td>0.499760</td>\n",
       "      <td>25000</td>\n",
       "      <td>71.333333</td>\n",
       "      <td>0.169520</td>\n",
       "    </tr>\n",
       "    <tr>\n",
       "      <th>14</th>\n",
       "      <td>30000</td>\n",
       "      <td>-73.0</td>\n",
       "      <td>0.497567</td>\n",
       "      <td>30000</td>\n",
       "      <td>116.000000</td>\n",
       "      <td>0.170533</td>\n",
       "    </tr>\n",
       "  </tbody>\n",
       "</table>\n",
       "</div>"
      ],
      "text/plain": [
       "        n  Kn-np        fn      n       Kn-np        fn\n",
       "0      10   -1.0  0.400000     10    2.333333  0.400000\n",
       "1      25    3.5  0.640000     25    1.833333  0.240000\n",
       "2      50    0.0  0.500000     50    1.666667  0.200000\n",
       "3     100   -7.0  0.430000    100    0.333333  0.170000\n",
       "4     250  -20.0  0.420000    250    4.333333  0.184000\n",
       "5     500  -11.0  0.478000    500   -1.333333  0.164000\n",
       "6    1000   -5.0  0.495000   1000    6.333333  0.173000\n",
       "7    2500   38.0  0.515200   2500  -26.666667  0.156000\n",
       "8    5000  -23.0  0.495400   5000   15.666667  0.169800\n",
       "9    7500  -13.0  0.498267   7500  -13.000000  0.164933\n",
       "10  10000   18.0  0.501800  10000  -20.666667  0.164600\n",
       "11  15000  -65.0  0.495667  15000   17.000000  0.167800\n",
       "12  20000   80.0  0.504000  20000  -23.333333  0.165500\n",
       "13  25000   -6.0  0.499760  25000   71.333333  0.169520\n",
       "14  30000  -73.0  0.497567  30000  116.000000  0.170533"
      ]
     },
     "execution_count": 59,
     "metadata": {},
     "output_type": "execute_result"
    }
   ],
   "source": [
    "Table_fair=pd.DataFrame(fair,columns=[\"n\",\"Kn-np\",\"fn\"])\n",
    "Table_unfair=pd.DataFrame(unfair,columns=[\"n\",\"Kn-np\",\"fn\"])\n",
    "Final=pd.concat([Table_fair,Table_unfair],axis=1)\n",
    "Final"
   ]
  },
  {
   "cell_type": "markdown",
   "metadata": {},
   "source": [
    "## Coclusion:\n",
    "  Boh for fair and biased coin, as n increase the relative frequency with which Head apprears , approched the value of p itesef"
   ]
  },
  {
   "cell_type": "code",
   "execution_count": 60,
   "metadata": {},
   "outputs": [
    {
     "data": {
      "text/plain": [
       "[<matplotlib.lines.Line2D at 0x1cf81979880>]"
      ]
     },
     "execution_count": 60,
     "metadata": {},
     "output_type": "execute_result"
    },
    {
     "data": {
      "image/png": "[encoded data removed]",
      "text/plain": [
       "<Figure size 432x288 with 1 Axes>"
      ]
     },
     "metadata": {
      "needs_background": "light"
     },
     "output_type": "display_data"
    }
   ],
   "source": [
    "plt.plot(Table_fair[\"Kn-np\"])"
   ]
  },
  {
   "cell_type": "code",
   "execution_count": 53,
   "metadata": {},
   "outputs": [],
   "source": []
  },
  {
   "cell_type": "markdown",
   "metadata": {},
   "source": [
    "# Random walk\n",
    "\n",
    "Which says the absolute difference between the actual number of head(Kn) and expected number of head(fn) is a random  number, which goes up with a head turning up and goes down otherwise, and looks like a **random walk**\n",
    "\n",
    "As the number of experiment increase , the actual difference between H and T can increase, where as relative difference between them will decrease\n",
    "\n",
    "In a long run the relative frequency of head and tail will be same, as in long run local clusters of head or tail will be abSorved by average,\n",
    "but there is no law of average for absolute difference between the number of heads and tails\n",
    "\n",
    "IN FACT as the number of experiment increase the actual difference between number of head and tail increase and stay away from zero\n",
    "\n",
    "Many people mistakely bilieve that , number of head resulting from a toss will be followed by number of tail and such that both head and tail will turn up approximately same number of times.\n",
    "many gambler, keep track of number of head and tail as the gaim progress , in order to predcit future, but its a folly to think that such logic work, which is called  **gambler fallacy**"
   ]
  },
  {
   "cell_type": "code",
   "execution_count": 61,
   "metadata": {},
   "outputs": [
    {
     "data": {
      "text/plain": [
       "[<matplotlib.lines.Line2D at 0x1cf819d0c10>]"
      ]
     },
     "execution_count": 61,
     "metadata": {},
     "output_type": "execute_result"
    },
    {
     "data": {
      "image/png": "[encoded data removed]",
      "text/plain": [
       "<Figure size 432x288 with 1 Axes>"
      ]
     },
     "metadata": {
      "needs_background": "light"
     },
     "output_type": "display_data"
    }
   ],
   "source": [
    "Table_fair=pd.DataFrame(fair,columns=[\"n\",\"Kn-np\",\"fn\"])\n",
    "\n",
    "plt.plot(Table_fair[\"Kn-np\"])"
   ]
  },
  {
   "cell_type": "code",
   "execution_count": 63,
   "metadata": {},
   "outputs": [
    {
     "data": {
      "text/plain": [
       "[<matplotlib.lines.Line2D at 0x1cf81ad62e0>]"
      ]
     },
     "execution_count": 63,
     "metadata": {},
     "output_type": "execute_result"
    },
    {
     "data": {
      "image/png": "[encoded data removed]",
      "text/plain": [
       "<Figure size 432x288 with 1 Axes>"
      ]
     },
     "metadata": {
      "needs_background": "light"
     },
     "output_type": "display_data"
    }
   ],
   "source": [
    "fair=[]\n",
    "unfair=[]\n",
    "for n in range(1,10000,100):\n",
    "    n=n+1\n",
    "    fair_toss_result= coin_toss(n,p_fair)\n",
    "    Kn1=fair_toss_result.count(\"H\")\n",
    "    fn1=Kn1/n\n",
    "    fair.append([n, Kn1-(n*p_fair) ,fn1])\n",
    "    \n",
    "    unfair_toss_result=coin_toss(n,p)\n",
    "    Kn2=unfair_toss_result.count(\"H\")\n",
    "    fn2=Kn2/n\n",
    "    unfair.append([n, Kn2-(n*p) ,fn2])\n",
    "Table_fair=pd.DataFrame(fair,columns=[\"n\",\"Kn-np\",\"fn\"])\n",
    "\n",
    "plt.plot(Table_fair[\"Kn-np\"])"
   ]
  }
 ],
 "metadata": {
  "kernelspec": {
   "display_name": "Python 3",
   "language": "python",
   "name": "python3"
  },
  "language_info": {
   "codemirror_mode": {
    "name": "ipython",
    "version": 3
   },
   "file_extension": ".py",
   "mimetype": "text/x-python",
   "name": "python",
   "nbconvert_exporter": "python",
   "pygments_lexer": "ipython3",
   "version": "3.8.3"
  }
 },
 "nbformat": 4,
 "nbformat_minor": 4
}
