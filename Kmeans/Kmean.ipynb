{
 "cells": [
  {
   "cell_type": "code",
   "execution_count": 8,
   "metadata": {},
   "outputs": [],
   "source": [
    "import random \n",
    "import pandas as pd\n",
    "import numpy as np\n",
    "import matplotlib.pyplot as plt"
   ]
  },
  {
   "cell_type": "markdown",
   "metadata": {},
   "source": [
    "# Dataset"
   ]
  },
  {
   "cell_type": "code",
   "execution_count": 43,
   "metadata": {},
   "outputs": [
    {
     "data": {
      "image/png": "[encoded data removed]",
      "text/plain": [
       "<Figure size 432x288 with 1 Axes>"
      ]
     },
     "metadata": {},
     "output_type": "display_data"
    }
   ],
   "source": [
    "#data=pd.read_csv('example1.csv')\n",
    "#data=pd.read_csv('xclara.csv')\n",
    "\n",
    "#data=data.values.tolist()\n",
    "#data=np.array(data)\n",
    "\n",
    "\n",
    "\n",
    "# Set three centers, the model should predict similar results\n",
    "center_1 = np.array([1,1])\n",
    "center_2 = np.array([5,5])\n",
    "center_3 = np.array([8,1])\n",
    "center_4 = np.array([0,6])\n",
    "# Generate random data and center it to the three centers\n",
    "data_1 = np.random.randn(200, 2) + center_1\n",
    "data_2 = np.random.randn(200,2) + center_2\n",
    "data_3 = np.random.randn(200,2) + center_3\n",
    "data_4 = np.random.randn(200,2) + center_4\n",
    "data = np.concatenate((data_1, data_2, data_3,data_4), axis = 0)\n",
    "\n",
    "\n",
    "plt.scatter(data[:,0],data[:,1])\n",
    "plt.show()"
   ]
  },
  {
   "cell_type": "code",
   "execution_count": 7,
   "metadata": {},
   "outputs": [
    {
     "data": {
      "text/plain": [
       "numpy.ndarray"
      ]
     },
     "execution_count": 7,
     "metadata": {},
     "output_type": "execute_result"
    }
   ],
   "source": [
    "type(data)"
   ]
  },
  {
   "cell_type": "code",
   "execution_count": 81,
   "metadata": {},
   "outputs": [],
   "source": [
    "\n",
    "#---ref  https://stanford.edu/~cpiech/cs221/handouts/kmeans.html\n",
    "\n",
    "# Function: Should Stop\n",
    "# -------------\n",
    "# Returns True or False if k-means is done. K-means terminates either\n",
    "# because it has run a maximum number of iterations OR the centroids\n",
    "# stop changing.\n",
    "def shouldStop(oldCentroids, centroids, iterations,MAX_ITERATIONS):\n",
    "    if iterations > MAX_ITERATIONS: return True\n",
    "    #print(oldCentroids)\n",
    "    return np.array_equal(oldCentroids,centroids)\n",
    "\n",
    "# Function: Get Labels\n",
    "# -------------\n",
    "# Returns a label for each piece of data in the dataset. \n",
    "def getLabels(dataSet, centroids):\n",
    "    # For each element in the dataset, chose the closest centroid. \n",
    "    # Make that centroid the element's label.\n",
    "    labels=[-1]*len(dataSet)\n",
    "    for i,val  in enumerate(dataSet):\n",
    "            new_cluster=np.argmin([ eucliad_dist(centre,val) for centre in centroids])\n",
    "            labels[i]=new_cluster\n",
    "    return labels\n",
    "    \n",
    "# Function: Get Centroids\n",
    "# -------------\n",
    "# Returns k random centroids, each of dimension n.\n",
    "def getCentroids(dataSet, labels, k):\n",
    "    # Each centroid is the geometric mean of the points that\n",
    "    # have that centroid's label. Important: If a centroid is empty (no points have\n",
    "    # that centroid's label) you should randomly re-initialize it.\n",
    "    new_data_group=[ [] for i in range(k)]\n",
    "    #cluster assignmnet\n",
    "    for i,val  in enumerate(dataSet):\n",
    "        cluster=labels[i]\n",
    "        new_data_group[cluster].append(val)\n",
    "    centroid=[]\n",
    "    for label in range(k):\n",
    "        data_temp=np.array(new_data_group[label])\n",
    "        data_temp=np.array(data_temp)\n",
    "        centroid.append(list(np.mean(data_temp,axis=0)))        \n",
    "    return centroid \n",
    "\n",
    "# Function: Get distance\n",
    "# -------------\n",
    "# Returns d of between two array of ,m dimensional point\n",
    "def eucliad_dist(point1,point2):\n",
    "    return np.sqrt(((point1-point2)**2).sum(axis=0))\n",
    "\n",
    "\n",
    "    \n",
    "# Function: uses kmean++ initialization,improve clustering https://en.wikipedia.org/wiki/K-means%2B%2B\n",
    "# -------------\n",
    "# Returns k random centroids, each of dimension n.\n",
    "def kmeanPP_initialization(data,k):\n",
    "    centroid_list=[]\n",
    "    #chose a random point\n",
    "    \n",
    "    c=random.sample(list(data),1)\n",
    "    c=c[0].tolist()\n",
    "    centroid_list.append( c ) \n",
    "    if k==1:\n",
    "         \n",
    "        return centroid_list\n",
    "    else:\n",
    "        new_data=list(data)\n",
    "        new_data=[item for item in new_data if (item !=c).all()]\n",
    "        for i in range(k-1):\n",
    "            avg_dist=[-1]*len(new_data)\n",
    "            for j,data in enumerate(new_data):\n",
    "                avg_dist[j]=sum([ eucliad_dist(item,data) for item in centroid_list ])/len(centroid_list)\n",
    "            max_dist=max(avg_dist)\n",
    "            index=[ i for i,val in enumerate(avg_dist) if avg_dist[i]==max_dist]\n",
    "            #print(type(index))\n",
    "            new_centroid=new_data[index[0]].tolist()            \n",
    "            centroid_list.append(new_centroid)\n",
    "            new_data=[item for item in new_data if (item!= new_centroid).all()] \n",
    "    return centroid_list\n",
    "    \n",
    "def plotKmean(data,c,cluster_index,k):\n",
    "    colors = ['r', 'g', 'b', 'y', 'c', 'm','g0']\n",
    "    fig, ax = plt.subplots()\n",
    "    for i in range(k):\n",
    "            points = np.array([data[j] for j in range(len(data)) if cluster_index[j] == i])\n",
    "            ax.scatter(points[:, 0], points[:, 1], s=10, c=colors[i] )\n",
    "    ax.scatter(c[:, 0], c[:, 1], marker='*', s=200, c='#050505')"
   ]
  },
  {
   "cell_type": "code",
   "execution_count": 83,
   "metadata": {},
   "outputs": [],
   "source": [
    "# Function: K Means\n",
    "# -------------\n",
    "# K-Means is an algorithm that takes in a dataset and a constant\n",
    "# k and returns k centroids (which define clusters of data in the\n",
    "# dataset which are similar to one another).\n",
    "def kmeans(dataSet, k):\n",
    "    \n",
    "    #numFeatures = dataSet.getNumFeatures()\n",
    "    numFeatures = dataSet.shape[1]\n",
    "    \n",
    "    # Initialize of centroids \n",
    "    \n",
    "    #initialization1: randomly grid\n",
    "    #centroids=np.random.randn(k,numFeatures)*np.std(data)+np.mean(data)\n",
    "    \n",
    "    #initalization2: randomly point\n",
    "    #centroids=random.sample(data.tolist(),k)    \n",
    "    #centroids=np.array(centroids)\n",
    "       \n",
    "    #initalization3:kmean++ initialization\n",
    "    centroids=kmeanPP_initialization(data,k)\n",
    "    \n",
    "    # Initialize book keeping vars.\n",
    "    iterations = 0\n",
    "    MAX_ITERATIONS=100\n",
    "    oldCentroids = np.random.randn(k,numFeatures)\n",
    "    \n",
    "    # Run the main k-means algorithm\n",
    "    while not shouldStop(oldCentroids, centroids, iterations,MAX_ITERATIONS):\n",
    "        # Save old centroids for convergence test. Book keeping.\n",
    "        oldCentroids = centroids\n",
    "        iterations += 1\n",
    "        \n",
    "        # Assign labels to each datapoint based on centroids\n",
    "        labels = getLabels(dataSet, centroids)\n",
    "        \n",
    "        # Assign centroids based on datapoint labels\n",
    "        centroids = getCentroids(dataSet, labels, k)\n",
    "        \n",
    "    # We can get the labels too by calling getLabels(dataSet, centroids)\n",
    "    return centroids,labels"
   ]
  },
  {
   "cell_type": "code",
   "execution_count": 86,
   "metadata": {},
   "outputs": [],
   "source": [
    "z,l=kmeans(data,4)"
   ]
  },
  {
   "cell_type": "code",
   "execution_count": 87,
   "metadata": {},
   "outputs": [
    {
     "data": {
      "image/png": "[encoded data removed]",
      "text/plain": [
       "<Figure size 432x288 with 1 Axes>"
      ]
     },
     "metadata": {},
     "output_type": "display_data"
    }
   ],
   "source": [
    "plotKmean(data,np.array(z),l,4)"
   ]
  },
  {
   "cell_type": "code",
   "execution_count": 88,
   "metadata": {},
   "outputs": [
    {
     "data": {
      "text/plain": [
       "[[4.858891305189575, 4.866970565133365],\n",
       " [0.08555726200068997, 6.032870828774364],\n",
       " [8.032503087626104, 1.137483963725634],\n",
       " [0.9524920446132201, 1.0351306113599423]]"
      ]
     },
     "execution_count": 88,
     "metadata": {},
     "output_type": "execute_result"
    }
   ],
   "source": [
    "z"
   ]
  },
  {
   "cell_type": "code",
   "execution_count": 90,
   "metadata": {},
   "outputs": [
    {
     "data": {
      "text/plain": [
       "array([[0.08555726, 6.03287083],\n",
       "       [8.03250309, 1.13748396],\n",
       "       [0.95249204, 1.03513061],\n",
       "       [4.85889131, 4.86697057]])"
      ]
     },
     "execution_count": 90,
     "metadata": {},
     "output_type": "execute_result"
    }
   ],
   "source": [
    "from sklearn.cluster import KMeans\n",
    "import numpy as np\n",
    "X = data\n",
    "kmeans = KMeans(n_clusters=4, random_state=0).fit(X)\n",
    "kmeans.labels_\n",
    "kmeans.predict(data)\n",
    "c2=kmeans.cluster_centers_\n",
    "c2"
   ]
  }
 ],
 "metadata": {
  "kernelspec": {
   "display_name": "Python 3",
   "language": "python",
   "name": "python3"
  },
  "language_info": {
   "codemirror_mode": {
    "name": "ipython",
    "version": 3
   },
   "file_extension": ".py",
   "mimetype": "text/x-python",
   "name": "python",
   "nbconvert_exporter": "python",
   "pygments_lexer": "ipython3",
   "version": "3.6.5"
  }
 },
 "nbformat": 4,
 "nbformat_minor": 2
}
